{
 "cells": [
  {
   "attachments": {},
   "cell_type": "markdown",
   "metadata": {},
   "source": [
    "# Problem 1 "
   ]
  },
  {
   "cell_type": "code",
   "execution_count": null,
   "metadata": {},
   "outputs": [],
   "source": [
    "# 1 - numpy kütüphanesini import edin\n",
    "import numpy as np\n",
    "\n",
    "# 2 - 5 elemanlı bir numpy array oluşturun\n",
    "array= np.array([15,11,56,46,99])\n",
    "# 3 - Oluşturduğunuz arrayi küçükten büyüğe sıralayın.\n",
    "print(np.sort(array))\n"
   ]
  },
  {
   "attachments": {},
   "cell_type": "markdown",
   "metadata": {},
   "source": [
    "# Problem 2"
   ]
  },
  {
   "cell_type": "code",
   "execution_count": null,
   "metadata": {},
   "outputs": [],
   "source": [
    "# 1- (10,15,30,45,60) değerlerine sahip numpy dizisi oluşturunuz.\n",
    "\n",
    "sayilar = np.array([10,15,30,45,60])\n",
    "print(\"Sayılar arrayi: \", sayilar)\n",
    "# 2- (5-15) arasındaki sayılarla numpy dizisi oluşturunuz.\n",
    " sayilar2= np.arange(5,16)\n",
    "print(\"Sayılar2 arrayi: \", sayilar2, \"\\n\")\n",
    "\n",
    "# 3- (50-100) arasında 5'er 5'er artarak numpy dizisi oluşturunuz.\n",
    "sayilar3= np.arange(50,100,5)\n",
    "print(\"Sayılar2 arrayi: \", sayilar3, \"\\n\")\n",
    "\n",
    "# 4- 10 elemanlı sıfırlardan oluşan bir dizi oluşturunuz.\n",
    "sayilar4= np.zeros(10)\n",
    "print(\"Sayılar4 arrayi: \", sayilar4, \"\\n\")\n",
    "\n",
    "# 5- 10 elemanlı birlerden oluşan bir dizi oluşturunuz.\n",
    "sayilar5= np.ones(8)\n",
    "print(\"Sayılar5 arrayi: \", sayilar5, \"\\n\")\n",
    "\n",
    "# 6- (0-100) arasında eşit aralıklı 5 sayı üretin.\n",
    "\n",
    "sayilar6= np.linspace(0,100)\n",
    "print(\"Sayılar6 arrayi: \", sayilar6, \"\\n\")\n",
    "# 7- (10-30) arasında rastgele 5 tane tamsayı üretin.\n",
    "\n",
    "random_sayilar= np.random.randint(10,31,size=5) \n",
    "print(\"Random Sayılar: \", random_sayilar, \"\\n\")\n",
    "# 8- [-1 ile 1] arasında 10 adet sayı üretin.\n",
    "\n",
    "random_sayilar2= np.random.uniform(-1,1, size=10)\n",
    "print(\"Random Sayılar: \", random_sayilar2, \"\\n\")\n",
    "# 9- (3x5) boyutlarında (10-50) arasında rastgele bir matris oluşturunuz.\n",
    "\n",
    "random_sayilar3= np.random.randint(10,50, size=(3,5))\n",
    "print(\"3*5 Matrisi: \", random_sayilar3, \"\\n\")\n",
    "# 10- Üretilen matrisin satır ve sütun sayıları toplamlarını hesaplayınız ?\n",
    "\n",
    "print(random_sayilar3.sum(axis=0))\n",
    "print(random_sayilar3.sum(axis=1))\n",
    "# 11- Üretilen matrisin en büyük, en küçük ve ortalaması nedir ?\n",
    "print(random_sayilar3.max())\n",
    "print(random_sayilar3.min())\n",
    "print(random_sayilar3.mean())\n",
    "\n",
    "# 12- Üretilen matrisin en büyük değerinin indeksi kaçtır ?\n",
    "print(\"12. soru: \", random_sayilar3.argmax())\n",
    "\n",
    "# 13- (10-20) arasındaki sayıları içeren dizinin ilk 3 elemanını seçiniz.\n",
    "random_sayilar4= np.random.randint(10,20, size= 9)\n",
    "print(\"13.soru:\" , random_sayilar4[:3])\n",
    "\n",
    "# 14- Üretilen dizinin elemanlarını tersten yazdırın.\n",
    "print(random_sayilar4)\n",
    "print(\"14.soru: \",random_sayilar4[::-1])\n",
    "\n",
    "# 15- Üretilen matrisin ilk satırını seçiniz.\n",
    "print(random_sayilar3[0], \"\\n\")\n",
    "\n",
    "# 16- Üretilen matrisin 2.satır 3.sütundaki elemanı hangisidir ?\n",
    "\n",
    "print(random_sayilar3)\n",
    "print(random_sayilar3[1][2])\n",
    "# 17- Üretilen matrisin tüm satırlardaki ilk elemanı seçiniz.\n",
    "print(random_sayilar3[:,0])\n",
    "\n",
    "# 18- Üretilen matrisin her bir elemanının karesini alınız.\n",
    "\n",
    "print(random_sayilar3, \"\\n\")\n",
    "print(random_sayilar3**2)\n",
    "# 19- Üretilen matris elemanlarının hangisi pozitif çift sayıdır ? Aralığı (-50,+50) arasında yapınız.\n",
    "random_sayilar5= np.random.randint(-50,50, size=4*5)\n",
    "print(random_sayilar5[(random_sayilar5 % 2 ==0) & (random_sayilar5 > 0)])"
   ]
  }
 ],
 "metadata": {
  "kernelspec": {
   "display_name": "Python 3",
   "language": "python",
   "name": "python3"
  },
  "language_info": {
   "codemirror_mode": {
    "name": "ipython",
    "version": 3
   },
   "file_extension": ".py",
   "mimetype": "text/x-python",
   "name": "python",
   "nbconvert_exporter": "python",
   "pygments_lexer": "ipython3",
   "version": "3.11.1"
  },
  "orig_nbformat": 4,
  "vscode": {
   "interpreter": {
    "hash": "aee8b7b246df8f9039afb4144a1f6fd8d2ca17a180786b69acc140d282b71a49"
   }
  }
 },
 "nbformat": 4,
 "nbformat_minor": 2
}
